{
  "nbformat": 4,
  "nbformat_minor": 0,
  "metadata": {
    "colab": {
      "provenance": [],
      "gpuType": "T4",
      "authorship_tag": "ABX9TyN5RMUxuQdQnP354U/UIC6R",
      "include_colab_link": true
    },
    "kernelspec": {
      "name": "python3",
      "display_name": "Python 3"
    },
    "language_info": {
      "name": "python"
    },
    "accelerator": "GPU",
    "gpuClass": "standard"
  },
  "cells": [
    {
      "cell_type": "markdown",
      "metadata": {
        "id": "view-in-github",
        "colab_type": "text"
      },
      "source": [
        "<a href=\"https://colab.research.google.com/github/aaolcay/Randomized-Search-CV/blob/main/RandomizedSearchCV_CNN.ipynb\" target=\"_parent\"><img src=\"https://colab.research.google.com/assets/colab-badge.svg\" alt=\"Open In Colab\"/></a>"
      ]
    },
    {
      "cell_type": "markdown",
      "source": [
        "##**Hyperparameter Tuning: Randomized Search with Cross-Validation Implementation to CNN model**\n",
        "`RandomizedSearchCV` is a useful tool in scikit-learn library that allows us to perform hyperparameter tuning by searching through a defined hyperparameter space. It uses random sampling to select combinations of hyperparameters and evaluates them using cross-validation. Here's a step-by-step tutorial on how to use `RandomizedSearchCV`:\n",
        "\n"
      ],
      "metadata": {
        "id": "Y72P9csO-J4t"
      }
    },
    {
      "cell_type": "markdown",
      "source": [
        "**Step 1:** Import the necessary libraries"
      ],
      "metadata": {
        "id": "4vOp7yr9pyu_"
      }
    },
    {
      "cell_type": "code",
      "execution_count": 1,
      "metadata": {
        "id": "pxdzqL8C-GJw"
      },
      "outputs": [],
      "source": [
        "from keras.datasets import mnist\n",
        "import tensorflow.keras as keras\n",
        "from scipy.stats import randint\n",
        "from sklearn.model_selection import RandomizedSearchCV"
      ]
    },
    {
      "cell_type": "markdown",
      "source": [
        "**Step 2:** Load the dataset"
      ],
      "metadata": {
        "id": "azGjRj5_p4e_"
      }
    },
    {
      "cell_type": "code",
      "source": [
        "(x_train, y_train), (x_test, y_test) = mnist.load_data()"
      ],
      "metadata": {
        "colab": {
          "base_uri": "https://localhost:8080/"
        },
        "id": "vNbFSwVflg7M",
        "outputId": "a9d30fd2-d885-431c-b712-7164b0669d08"
      },
      "execution_count": 2,
      "outputs": [
        {
          "output_type": "stream",
          "name": "stdout",
          "text": [
            "Downloading data from https://storage.googleapis.com/tensorflow/tf-keras-datasets/mnist.npz\n",
            "11490434/11490434 [==============================] - 0s 0us/step\n"
          ]
        }
      ]
    },
    {
      "cell_type": "markdown",
      "source": [
        "**Step 3:** Reshape and normalize the input data"
      ],
      "metadata": {
        "id": "cWFtE04mp9cn"
      }
    },
    {
      "cell_type": "code",
      "source": [
        "x_train = x_train.reshape(-1, 28, 28, 1).astype('float32')/255.0 # the images have one channel\n",
        "x_test = x_test.reshape(-1, 28, 28, 1).astype('float32')/255.0"
      ],
      "metadata": {
        "id": "FenVxKz0ltaL"
      },
      "execution_count": 3,
      "outputs": []
    },
    {
      "cell_type": "markdown",
      "source": [
        "**Step 4:** Build your model \n",
        "\n",
        "Here, we built a very simple Convolutional Neural Network (CNN) model to observe the performance and do fine-tuning with `RandomizedSearchCV`."
      ],
      "metadata": {
        "id": "St-we-ujqIMc"
      }
    },
    {
      "cell_type": "code",
      "source": [
        "# Define the CNN model\n",
        "def create_model(activation_1='relu', activation_2='relu', optimizer='adam', filters_1=16, filters_2=32, kernel_size=3, dense_units=128):\n",
        "  model = keras.Sequential()\n",
        "  model.add(keras.layers.Conv2D(filters=filters_1,\n",
        "                                kernel_size=kernel_size,\n",
        "                                activation=activation_1,\n",
        "                                padding=\"same\",\n",
        "                                input_shape=(28,28,1)))\n",
        "  model.add(keras.layers.MaxPooling2D(pool_size=(2,2)))\n",
        "  model.add(keras.layers.Conv2D(filters=filters_2,\n",
        "                                kernel_size=kernel_size,\n",
        "                                activation=activation_2,\n",
        "                                padding=\"same\"))\n",
        "  model.add(keras.layers.MaxPooling2D(pool_size=(2,2)))\n",
        "  # Fully Connected Layer:\n",
        "  model.add(keras.layers.GlobalAveragePooling2D())\n",
        "  model.add(keras.layers.Dense(units=dense_units, activation=activation_1))\n",
        "  model.add(keras.layers.Dense(units=10, activation='softmax'))\n",
        "  model.compile(optimizer=optimizer, loss='categorical_crossentropy', metrics=['accuracy'])\n",
        "  return model "
      ],
      "metadata": {
        "id": "I50jm_Oll-Z3"
      },
      "execution_count": 4,
      "outputs": []
    },
    {
      "cell_type": "markdown",
      "source": [
        "**Step 5:** Create the CNN model wrapper for scikit-learn which is required for implementing `RandomizedSearchCV`."
      ],
      "metadata": {
        "id": "8beeci5lqqP3"
      }
    },
    {
      "cell_type": "code",
      "source": [
        "cnn_model = keras.wrappers.scikit_learn.KerasClassifier(build_fn=create_model, epochs=1, batch_size=10, verbose=0)"
      ],
      "metadata": {
        "id": "ggCPdPGVpRo7"
      },
      "execution_count": null,
      "outputs": []
    },
    {
      "cell_type": "markdown",
      "source": [
        "**Step 6:** Define the parameter distributions\n",
        "\n",
        "Note: The `RandomizedSearchCV` expects the parameter values to be provided as a distribution or an iterable (such as a list or array) for sampling. Since such a function as `random.randint(2, 5)` returns a single integer, it doesn't meet the requirements.\n",
        "\n",
        "To use a range of values for the 'kernel_size' hyperparameter, we utilize the `scipy.stats.randint` distribution from the `scipy.stats` module (see libraries imported above), as shown below:"
      ],
      "metadata": {
        "id": "49WPXzoOr9Cu"
      }
    },
    {
      "cell_type": "code",
      "source": [
        "param_dist = { \n",
        "              'activation_1':['relu', 'sigmoid', 'tanh'],\n",
        "              'activation_2':['relu', 'sigmoid', 'tanh'],\n",
        "              'filters_1': randint(8,32),\n",
        "              'filters_2': randint(16,64),\n",
        "              'kernel_size': randint(2,5),\n",
        "              'optimizer': ['adam', 'sgd', 'rmsprop', 'adagrad', 'adadelta'],\n",
        "              'dense_units': randint(64,256)\n",
        "              }"
      ],
      "metadata": {
        "id": "EIGoTlBrrQDm"
      },
      "execution_count": 6,
      "outputs": []
    },
    {
      "cell_type": "markdown",
      "source": [
        "**Step 7:** Perform randomized search"
      ],
      "metadata": {
        "id": "diNhfVsAuN7c"
      }
    },
    {
      "cell_type": "code",
      "source": [
        "random_search = RandomizedSearchCV(\n",
        "                                   cnn_model, # enter your wrapped model\n",
        "                                   param_distributions=param_dist, # enter the hyperparameters (you defined in the parameters distributions)\n",
        "                                   n_iter=20, # how many combinations you want\n",
        "                                   cv=3 # k-fold cross validation (k=5)\n",
        "                                   )"
      ],
      "metadata": {
        "id": "-ym70OdmttQ5"
      },
      "execution_count": 7,
      "outputs": []
    },
    {
      "cell_type": "code",
      "source": [
        "random_search.fit(x_train, y_train, verbose=1)"
      ],
      "metadata": {
        "colab": {
          "base_uri": "https://localhost:8080/",
          "height": 1000
        },
        "id": "l6KTMCX9usua",
        "outputId": "88fe01a3-4122-4d42-9b48-36ae547da479"
      },
      "execution_count": 8,
      "outputs": [
        {
          "output_type": "stream",
          "name": "stdout",
          "text": [
            "Epoch 1/2\n",
            "4000/4000 [==============================] - 26s 4ms/step - loss: 2.2923 - accuracy: 0.1301\n",
            "Epoch 2/2\n",
            "4000/4000 [==============================] - 16s 4ms/step - loss: 2.2683 - accuracy: 0.1889\n",
            "Epoch 1/2\n",
            "4000/4000 [==============================] - 16s 4ms/step - loss: 2.2962 - accuracy: 0.1817\n",
            "Epoch 2/2\n",
            "4000/4000 [==============================] - 16s 4ms/step - loss: 2.2820 - accuracy: 0.2076\n",
            "Epoch 1/2\n",
            "4000/4000 [==============================] - 16s 4ms/step - loss: 2.2945 - accuracy: 0.1644\n",
            "Epoch 2/2\n",
            "4000/4000 [==============================] - 15s 4ms/step - loss: 2.2785 - accuracy: 0.1918\n",
            "Epoch 1/2\n",
            "4000/4000 [==============================] - 16s 4ms/step - loss: 2.3050 - accuracy: 0.1069\n",
            "Epoch 2/2\n",
            "4000/4000 [==============================] - 15s 4ms/step - loss: 2.2913 - accuracy: 0.1416\n",
            "Epoch 1/2\n",
            "4000/4000 [==============================] - 16s 4ms/step - loss: 2.3042 - accuracy: 0.1108\n",
            "Epoch 2/2\n",
            "4000/4000 [==============================] - 15s 4ms/step - loss: 2.2726 - accuracy: 0.1648\n",
            "Epoch 1/2\n",
            "4000/4000 [==============================] - 15s 4ms/step - loss: 2.3048 - accuracy: 0.1080\n",
            "Epoch 2/2\n",
            "4000/4000 [==============================] - 15s 4ms/step - loss: 2.3010 - accuracy: 0.1173\n",
            "Epoch 1/2\n",
            "4000/4000 [==============================] - 17s 4ms/step - loss: 0.8459 - accuracy: 0.7147\n",
            "Epoch 2/2\n",
            "4000/4000 [==============================] - 15s 4ms/step - loss: 0.3010 - accuracy: 0.9076\n",
            "Epoch 1/2\n",
            "4000/4000 [==============================] - 16s 4ms/step - loss: 0.8661 - accuracy: 0.7075\n",
            "Epoch 2/2\n",
            "4000/4000 [==============================] - 15s 4ms/step - loss: 0.2950 - accuracy: 0.9093\n",
            "Epoch 1/2\n",
            "4000/4000 [==============================] - 16s 4ms/step - loss: 0.8385 - accuracy: 0.7177\n",
            "Epoch 2/2\n",
            "4000/4000 [==============================] - 15s 4ms/step - loss: 0.2854 - accuracy: 0.9136\n",
            "Epoch 1/2\n",
            "4000/4000 [==============================] - 17s 4ms/step - loss: 2.4392 - accuracy: 0.1007\n",
            "Epoch 2/2\n",
            "4000/4000 [==============================] - 15s 4ms/step - loss: 2.3365 - accuracy: 0.1007\n",
            "Epoch 1/2\n",
            "4000/4000 [==============================] - 17s 4ms/step - loss: 2.3702 - accuracy: 0.0998\n",
            "Epoch 2/2\n",
            "4000/4000 [==============================] - 15s 4ms/step - loss: 2.3153 - accuracy: 0.0998\n",
            "Epoch 1/2\n",
            "4000/4000 [==============================] - 17s 4ms/step - loss: 2.4779 - accuracy: 0.0977\n",
            "Epoch 2/2\n",
            "4000/4000 [==============================] - 15s 4ms/step - loss: 2.3365 - accuracy: 0.0977\n",
            "Epoch 1/2\n",
            "4000/4000 [==============================] - 17s 4ms/step - loss: 2.3156 - accuracy: 0.1029\n",
            "Epoch 2/2\n",
            "4000/4000 [==============================] - 15s 4ms/step - loss: 2.3144 - accuracy: 0.1055\n",
            "Epoch 1/2\n",
            "4000/4000 [==============================] - 16s 4ms/step - loss: 2.3154 - accuracy: 0.1038\n",
            "Epoch 2/2\n",
            "4000/4000 [==============================] - 15s 4ms/step - loss: 2.3156 - accuracy: 0.1020\n",
            "Epoch 1/2\n",
            "4000/4000 [==============================] - 16s 4ms/step - loss: 2.3153 - accuracy: 0.0996\n",
            "Epoch 2/2\n",
            "4000/4000 [==============================] - 15s 4ms/step - loss: 2.3137 - accuracy: 0.1058\n",
            "Epoch 1/2\n",
            "4000/4000 [==============================] - 18s 4ms/step - loss: 2.0250 - accuracy: 0.2407\n",
            "Epoch 2/2\n",
            "4000/4000 [==============================] - 15s 4ms/step - loss: 1.3623 - accuracy: 0.5248\n",
            "Epoch 1/2\n",
            "4000/4000 [==============================] - 17s 4ms/step - loss: 2.0048 - accuracy: 0.2486\n",
            "Epoch 2/2\n",
            "4000/4000 [==============================] - 15s 4ms/step - loss: 1.2799 - accuracy: 0.5537\n",
            "Epoch 1/2\n",
            "4000/4000 [==============================] - 16s 4ms/step - loss: 2.0344 - accuracy: 0.2370\n",
            "Epoch 2/2\n",
            "4000/4000 [==============================] - 16s 4ms/step - loss: 1.3499 - accuracy: 0.5280\n",
            "Epoch 1/2\n",
            "4000/4000 [==============================] - 16s 4ms/step - loss: 2.3109 - accuracy: 0.1044\n",
            "Epoch 2/2\n",
            "4000/4000 [==============================] - 15s 4ms/step - loss: 2.3088 - accuracy: 0.1023\n",
            "Epoch 1/2\n",
            "4000/4000 [==============================] - 16s 4ms/step - loss: 2.3099 - accuracy: 0.1039\n",
            "Epoch 2/2\n",
            "4000/4000 [==============================] - 15s 4ms/step - loss: 2.3087 - accuracy: 0.1042\n",
            "Epoch 1/2\n",
            "4000/4000 [==============================] - 15s 4ms/step - loss: 2.3091 - accuracy: 0.1049\n",
            "Epoch 2/2\n",
            "4000/4000 [==============================] - 15s 4ms/step - loss: 2.3085 - accuracy: 0.1049\n",
            "Epoch 1/2\n",
            "4000/4000 [==============================] - 17s 4ms/step - loss: 1.5468 - accuracy: 0.4224\n",
            "Epoch 2/2\n",
            "4000/4000 [==============================] - 15s 4ms/step - loss: 1.1158 - accuracy: 0.5943\n",
            "Epoch 1/2\n",
            "4000/4000 [==============================] - 16s 4ms/step - loss: 1.6308 - accuracy: 0.3916\n",
            "Epoch 2/2\n",
            "4000/4000 [==============================] - 15s 4ms/step - loss: 1.1243 - accuracy: 0.6124\n",
            "Epoch 1/2\n",
            "4000/4000 [==============================] - 17s 4ms/step - loss: 1.5551 - accuracy: 0.4249\n",
            "Epoch 2/2\n",
            "4000/4000 [==============================] - 15s 4ms/step - loss: 1.1188 - accuracy: 0.5943\n",
            "Epoch 1/2\n",
            "4000/4000 [==============================] - 16s 4ms/step - loss: 2.3052 - accuracy: 0.1032\n",
            "Epoch 2/2\n",
            "4000/4000 [==============================] - 15s 4ms/step - loss: 2.3004 - accuracy: 0.1115\n",
            "Epoch 1/2\n",
            "4000/4000 [==============================] - 16s 4ms/step - loss: 2.3033 - accuracy: 0.1147\n",
            "Epoch 2/2\n",
            "4000/4000 [==============================] - 15s 4ms/step - loss: 2.2997 - accuracy: 0.1151\n",
            "Epoch 1/2\n",
            "4000/4000 [==============================] - 16s 4ms/step - loss: 2.3055 - accuracy: 0.1111\n",
            "Epoch 2/2\n",
            "4000/4000 [==============================] - 15s 4ms/step - loss: 2.3004 - accuracy: 0.1141\n",
            "Epoch 1/2\n",
            "4000/4000 [==============================] - 17s 4ms/step - loss: 2.3036 - accuracy: 0.1077\n",
            "Epoch 2/2\n",
            "4000/4000 [==============================] - 15s 4ms/step - loss: 2.3019 - accuracy: 0.1115\n",
            "Epoch 1/2\n",
            "4000/4000 [==============================] - 18s 4ms/step - loss: 2.3026 - accuracy: 0.1122\n",
            "Epoch 2/2\n",
            "4000/4000 [==============================] - 15s 4ms/step - loss: 2.3009 - accuracy: 0.1140\n",
            "Epoch 1/2\n",
            "4000/4000 [==============================] - 16s 4ms/step - loss: 2.3029 - accuracy: 0.1102\n",
            "Epoch 2/2\n",
            "4000/4000 [==============================] - 16s 4ms/step - loss: 2.3008 - accuracy: 0.1140\n",
            "Epoch 1/2\n",
            "4000/4000 [==============================] - 17s 4ms/step - loss: 1.4194 - accuracy: 0.4723\n",
            "Epoch 2/2\n",
            "4000/4000 [==============================] - 16s 4ms/step - loss: 0.7948 - accuracy: 0.7354\n",
            "Epoch 1/2\n",
            "4000/4000 [==============================] - 16s 4ms/step - loss: 1.3865 - accuracy: 0.4940\n",
            "Epoch 2/2\n",
            "4000/4000 [==============================] - 15s 4ms/step - loss: 0.6967 - accuracy: 0.7727\n",
            "Epoch 1/2\n",
            "4000/4000 [==============================] - 16s 4ms/step - loss: 1.3174 - accuracy: 0.5332\n",
            "Epoch 2/2\n",
            "4000/4000 [==============================] - 15s 4ms/step - loss: 0.5572 - accuracy: 0.8194\n",
            "Epoch 1/2\n",
            "4000/4000 [==============================] - 17s 4ms/step - loss: 2.4233 - accuracy: 0.0984\n",
            "Epoch 2/2\n",
            "4000/4000 [==============================] - 15s 4ms/step - loss: 2.3634 - accuracy: 0.0984\n",
            "Epoch 1/2\n",
            "4000/4000 [==============================] - 17s 4ms/step - loss: 2.3453 - accuracy: 0.0978\n",
            "Epoch 2/2\n",
            "4000/4000 [==============================] - 15s 4ms/step - loss: 2.3221 - accuracy: 0.0978\n",
            "Epoch 1/2\n",
            "4000/4000 [==============================] - 17s 4ms/step - loss: 2.5937 - accuracy: 0.0986\n",
            "Epoch 2/2\n",
            "4000/4000 [==============================] - 15s 4ms/step - loss: 2.4246 - accuracy: 0.0986\n",
            "Epoch 1/2\n",
            "4000/4000 [==============================] - 16s 4ms/step - loss: 2.2908 - accuracy: 0.1475\n",
            "Epoch 2/2\n",
            "4000/4000 [==============================] - 15s 4ms/step - loss: 2.2696 - accuracy: 0.1873\n",
            "Epoch 1/2\n",
            "4000/4000 [==============================] - 16s 4ms/step - loss: 2.2953 - accuracy: 0.2044\n",
            "Epoch 2/2\n",
            "4000/4000 [==============================] - 15s 4ms/step - loss: 2.2775 - accuracy: 0.2051\n",
            "Epoch 1/2\n",
            "4000/4000 [==============================] - 16s 4ms/step - loss: 2.2979 - accuracy: 0.1563\n",
            "Epoch 2/2\n",
            "4000/4000 [==============================] - 15s 4ms/step - loss: 2.2825 - accuracy: 0.2144\n",
            "Epoch 1/2\n",
            "4000/4000 [==============================] - 18s 4ms/step - loss: 1.3331 - accuracy: 0.5099\n",
            "Epoch 2/2\n",
            "4000/4000 [==============================] - 16s 4ms/step - loss: 0.8983 - accuracy: 0.6831\n",
            "Epoch 1/2\n",
            "4000/4000 [==============================] - 19s 4ms/step - loss: 1.3393 - accuracy: 0.5157\n",
            "Epoch 2/2\n",
            "4000/4000 [==============================] - 16s 4ms/step - loss: 0.9607 - accuracy: 0.6679\n",
            "Epoch 1/2\n",
            "4000/4000 [==============================] - 18s 4ms/step - loss: 1.2976 - accuracy: 0.5293\n",
            "Epoch 2/2\n",
            "4000/4000 [==============================] - 16s 4ms/step - loss: 0.8811 - accuracy: 0.6978\n",
            "Epoch 1/2\n",
            "4000/4000 [==============================] - 17s 4ms/step - loss: 2.2923 - accuracy: 0.1540\n",
            "Epoch 2/2\n",
            "4000/4000 [==============================] - 15s 4ms/step - loss: 2.2602 - accuracy: 0.1971\n",
            "Epoch 1/2\n",
            "4000/4000 [==============================] - 16s 4ms/step - loss: 2.2946 - accuracy: 0.1871\n",
            "Epoch 2/2\n",
            "4000/4000 [==============================] - 15s 4ms/step - loss: 2.2720 - accuracy: 0.1664\n",
            "Epoch 1/2\n",
            "4000/4000 [==============================] - 16s 4ms/step - loss: 2.2980 - accuracy: 0.1616\n",
            "Epoch 2/2\n",
            "4000/4000 [==============================] - 15s 4ms/step - loss: 2.2819 - accuracy: 0.2019\n",
            "Epoch 1/2\n",
            "4000/4000 [==============================] - 18s 4ms/step - loss: 2.2476 - accuracy: 0.1515\n",
            "Epoch 2/2\n",
            "4000/4000 [==============================] - 15s 4ms/step - loss: 1.9142 - accuracy: 0.2728\n",
            "Epoch 1/2\n",
            "4000/4000 [==============================] - 18s 4ms/step - loss: 2.2641 - accuracy: 0.1465\n",
            "Epoch 2/2\n",
            "4000/4000 [==============================] - 16s 4ms/step - loss: 1.9215 - accuracy: 0.2698\n",
            "Epoch 1/2\n",
            "4000/4000 [==============================] - 17s 4ms/step - loss: 2.2345 - accuracy: 0.1579\n",
            "Epoch 2/2\n",
            "4000/4000 [==============================] - 16s 4ms/step - loss: 1.8922 - accuracy: 0.2794\n",
            "Epoch 1/2\n",
            "4000/4000 [==============================] - 18s 4ms/step - loss: 0.6798 - accuracy: 0.7776\n",
            "Epoch 2/2\n",
            "4000/4000 [==============================] - 16s 4ms/step - loss: 0.1956 - accuracy: 0.9412\n",
            "Epoch 1/2\n",
            "4000/4000 [==============================] - 17s 4ms/step - loss: 0.6656 - accuracy: 0.7831\n",
            "Epoch 2/2\n",
            "4000/4000 [==============================] - 15s 4ms/step - loss: 0.1948 - accuracy: 0.9423\n",
            "Epoch 1/2\n",
            "4000/4000 [==============================] - 18s 4ms/step - loss: 0.6627 - accuracy: 0.7835\n",
            "Epoch 2/2\n",
            "4000/4000 [==============================] - 16s 4ms/step - loss: 0.1912 - accuracy: 0.9424\n",
            "Epoch 1/2\n",
            "4000/4000 [==============================] - 17s 4ms/step - loss: 2.3273 - accuracy: 0.1028\n",
            "Epoch 2/2\n",
            "4000/4000 [==============================] - 15s 4ms/step - loss: 2.3046 - accuracy: 0.1078\n",
            "Epoch 1/2\n",
            "4000/4000 [==============================] - 16s 4ms/step - loss: 2.3269 - accuracy: 0.1021\n",
            "Epoch 2/2\n",
            "4000/4000 [==============================] - 15s 4ms/step - loss: 2.3027 - accuracy: 0.1108\n",
            "Epoch 1/2\n",
            "4000/4000 [==============================] - 17s 4ms/step - loss: 2.3263 - accuracy: 0.1035\n",
            "Epoch 2/2\n",
            "4000/4000 [==============================] - 15s 4ms/step - loss: 2.3035 - accuracy: 0.1125\n",
            "Epoch 1/2\n",
            "4000/4000 [==============================] - 18s 4ms/step - loss: 0.9984 - accuracy: 0.6481\n",
            "Epoch 2/2\n",
            "4000/4000 [==============================] - 15s 4ms/step - loss: 0.3363 - accuracy: 0.8964\n",
            "Epoch 1/2\n",
            "4000/4000 [==============================] - 17s 4ms/step - loss: 0.9322 - accuracy: 0.6806\n",
            "Epoch 2/2\n",
            "4000/4000 [==============================] - 15s 4ms/step - loss: 0.3382 - accuracy: 0.8978\n",
            "Epoch 1/2\n",
            "4000/4000 [==============================] - 17s 4ms/step - loss: 0.9722 - accuracy: 0.6647\n",
            "Epoch 2/2\n",
            "4000/4000 [==============================] - 15s 4ms/step - loss: 0.3442 - accuracy: 0.8933\n",
            "Epoch 1/2\n",
            "4000/4000 [==============================] - 17s 4ms/step - loss: 0.8015 - accuracy: 0.7357\n",
            "Epoch 2/2\n",
            "4000/4000 [==============================] - 15s 4ms/step - loss: 0.2520 - accuracy: 0.9233\n",
            "Epoch 1/2\n",
            "4000/4000 [==============================] - 16s 4ms/step - loss: 0.8049 - accuracy: 0.7320\n",
            "Epoch 2/2\n",
            "4000/4000 [==============================] - 16s 4ms/step - loss: 0.2508 - accuracy: 0.9255\n",
            "Epoch 1/2\n",
            "4000/4000 [==============================] - 16s 4ms/step - loss: 0.8377 - accuracy: 0.7146\n",
            "Epoch 2/2\n",
            "4000/4000 [==============================] - 16s 4ms/step - loss: 0.2428 - accuracy: 0.9250\n",
            "Epoch 1/2\n",
            "6000/6000 [==============================] - 25s 4ms/step - loss: 0.5392 - accuracy: 0.8237\n",
            "Epoch 2/2\n",
            "6000/6000 [==============================] - 24s 4ms/step - loss: 0.1608 - accuracy: 0.9501\n"
          ]
        },
        {
          "output_type": "execute_result",
          "data": {
            "text/plain": [
              "RandomizedSearchCV(cv=3,\n",
              "                   estimator=<keras.wrappers.scikit_learn.KerasClassifier object at 0x7f0a6c3a7ca0>,\n",
              "                   n_iter=20,\n",
              "                   param_distributions={'activation_1': ['relu', 'sigmoid',\n",
              "                                                         'tanh'],\n",
              "                                        'activation_2': ['relu', 'sigmoid',\n",
              "                                                         'tanh'],\n",
              "                                        'dense_units': <scipy.stats._distn_infrastructure.rv_discrete_frozen object at 0x7f0a6c3a7f40>,\n",
              "                                        'filters_1': <scipy.stats._distn_infrastructure.rv_discrete_frozen object at 0x7f0a6c3a6c50>,\n",
              "                                        'filters_2': <scipy.stats._distn_infrastructure.rv_discrete_frozen object at 0x7f0a6c3a7190>,\n",
              "                                        'kernel_size': <scipy.stats._distn_infrastructure.rv_discrete_frozen object at 0x7f0a6c3a7580>,\n",
              "                                        'optimizer': ['adam', 'sgd', 'rmsprop',\n",
              "                                                      'adagrad', 'adadelta']})"
            ],
            "text/html": [
              "<style>#sk-container-id-1 {color: black;background-color: white;}#sk-container-id-1 pre{padding: 0;}#sk-container-id-1 div.sk-toggleable {background-color: white;}#sk-container-id-1 label.sk-toggleable__label {cursor: pointer;display: block;width: 100%;margin-bottom: 0;padding: 0.3em;box-sizing: border-box;text-align: center;}#sk-container-id-1 label.sk-toggleable__label-arrow:before {content: \"▸\";float: left;margin-right: 0.25em;color: #696969;}#sk-container-id-1 label.sk-toggleable__label-arrow:hover:before {color: black;}#sk-container-id-1 div.sk-estimator:hover label.sk-toggleable__label-arrow:before {color: black;}#sk-container-id-1 div.sk-toggleable__content {max-height: 0;max-width: 0;overflow: hidden;text-align: left;background-color: #f0f8ff;}#sk-container-id-1 div.sk-toggleable__content pre {margin: 0.2em;color: black;border-radius: 0.25em;background-color: #f0f8ff;}#sk-container-id-1 input.sk-toggleable__control:checked~div.sk-toggleable__content {max-height: 200px;max-width: 100%;overflow: auto;}#sk-container-id-1 input.sk-toggleable__control:checked~label.sk-toggleable__label-arrow:before {content: \"▾\";}#sk-container-id-1 div.sk-estimator input.sk-toggleable__control:checked~label.sk-toggleable__label {background-color: #d4ebff;}#sk-container-id-1 div.sk-label input.sk-toggleable__control:checked~label.sk-toggleable__label {background-color: #d4ebff;}#sk-container-id-1 input.sk-hidden--visually {border: 0;clip: rect(1px 1px 1px 1px);clip: rect(1px, 1px, 1px, 1px);height: 1px;margin: -1px;overflow: hidden;padding: 0;position: absolute;width: 1px;}#sk-container-id-1 div.sk-estimator {font-family: monospace;background-color: #f0f8ff;border: 1px dotted black;border-radius: 0.25em;box-sizing: border-box;margin-bottom: 0.5em;}#sk-container-id-1 div.sk-estimator:hover {background-color: #d4ebff;}#sk-container-id-1 div.sk-parallel-item::after {content: \"\";width: 100%;border-bottom: 1px solid gray;flex-grow: 1;}#sk-container-id-1 div.sk-label:hover label.sk-toggleable__label {background-color: #d4ebff;}#sk-container-id-1 div.sk-serial::before {content: \"\";position: absolute;border-left: 1px solid gray;box-sizing: border-box;top: 0;bottom: 0;left: 50%;z-index: 0;}#sk-container-id-1 div.sk-serial {display: flex;flex-direction: column;align-items: center;background-color: white;padding-right: 0.2em;padding-left: 0.2em;position: relative;}#sk-container-id-1 div.sk-item {position: relative;z-index: 1;}#sk-container-id-1 div.sk-parallel {display: flex;align-items: stretch;justify-content: center;background-color: white;position: relative;}#sk-container-id-1 div.sk-item::before, #sk-container-id-1 div.sk-parallel-item::before {content: \"\";position: absolute;border-left: 1px solid gray;box-sizing: border-box;top: 0;bottom: 0;left: 50%;z-index: -1;}#sk-container-id-1 div.sk-parallel-item {display: flex;flex-direction: column;z-index: 1;position: relative;background-color: white;}#sk-container-id-1 div.sk-parallel-item:first-child::after {align-self: flex-end;width: 50%;}#sk-container-id-1 div.sk-parallel-item:last-child::after {align-self: flex-start;width: 50%;}#sk-container-id-1 div.sk-parallel-item:only-child::after {width: 0;}#sk-container-id-1 div.sk-dashed-wrapped {border: 1px dashed gray;margin: 0 0.4em 0.5em 0.4em;box-sizing: border-box;padding-bottom: 0.4em;background-color: white;}#sk-container-id-1 div.sk-label label {font-family: monospace;font-weight: bold;display: inline-block;line-height: 1.2em;}#sk-container-id-1 div.sk-label-container {text-align: center;}#sk-container-id-1 div.sk-container {/* jupyter's `normalize.less` sets `[hidden] { display: none; }` but bootstrap.min.css set `[hidden] { display: none !important; }` so we also need the `!important` here to be able to override the default hidden behavior on the sphinx rendered scikit-learn.org. See: https://github.com/scikit-learn/scikit-learn/issues/21755 */display: inline-block !important;position: relative;}#sk-container-id-1 div.sk-text-repr-fallback {display: none;}</style><div id=\"sk-container-id-1\" class=\"sk-top-container\"><div class=\"sk-text-repr-fallback\"><pre>RandomizedSearchCV(cv=3,\n",
              "                   estimator=&lt;keras.wrappers.scikit_learn.KerasClassifier object at 0x7f0a6c3a7ca0&gt;,\n",
              "                   n_iter=20,\n",
              "                   param_distributions={&#x27;activation_1&#x27;: [&#x27;relu&#x27;, &#x27;sigmoid&#x27;,\n",
              "                                                         &#x27;tanh&#x27;],\n",
              "                                        &#x27;activation_2&#x27;: [&#x27;relu&#x27;, &#x27;sigmoid&#x27;,\n",
              "                                                         &#x27;tanh&#x27;],\n",
              "                                        &#x27;dense_units&#x27;: &lt;scipy.stats._distn_infrastructure.rv_discrete_frozen object at 0x7f0a6c3a7f40&gt;,\n",
              "                                        &#x27;filters_1&#x27;: &lt;scipy.stats._distn_infrastructure.rv_discrete_frozen object at 0x7f0a6c3a6c50&gt;,\n",
              "                                        &#x27;filters_2&#x27;: &lt;scipy.stats._distn_infrastructure.rv_discrete_frozen object at 0x7f0a6c3a7190&gt;,\n",
              "                                        &#x27;kernel_size&#x27;: &lt;scipy.stats._distn_infrastructure.rv_discrete_frozen object at 0x7f0a6c3a7580&gt;,\n",
              "                                        &#x27;optimizer&#x27;: [&#x27;adam&#x27;, &#x27;sgd&#x27;, &#x27;rmsprop&#x27;,\n",
              "                                                      &#x27;adagrad&#x27;, &#x27;adadelta&#x27;]})</pre><b>In a Jupyter environment, please rerun this cell to show the HTML representation or trust the notebook. <br />On GitHub, the HTML representation is unable to render, please try loading this page with nbviewer.org.</b></div><div class=\"sk-container\" hidden><div class=\"sk-item sk-dashed-wrapped\"><div class=\"sk-label-container\"><div class=\"sk-label sk-toggleable\"><input class=\"sk-toggleable__control sk-hidden--visually\" id=\"sk-estimator-id-1\" type=\"checkbox\" ><label for=\"sk-estimator-id-1\" class=\"sk-toggleable__label sk-toggleable__label-arrow\">RandomizedSearchCV</label><div class=\"sk-toggleable__content\"><pre>RandomizedSearchCV(cv=3,\n",
              "                   estimator=&lt;keras.wrappers.scikit_learn.KerasClassifier object at 0x7f0a6c3a7ca0&gt;,\n",
              "                   n_iter=20,\n",
              "                   param_distributions={&#x27;activation_1&#x27;: [&#x27;relu&#x27;, &#x27;sigmoid&#x27;,\n",
              "                                                         &#x27;tanh&#x27;],\n",
              "                                        &#x27;activation_2&#x27;: [&#x27;relu&#x27;, &#x27;sigmoid&#x27;,\n",
              "                                                         &#x27;tanh&#x27;],\n",
              "                                        &#x27;dense_units&#x27;: &lt;scipy.stats._distn_infrastructure.rv_discrete_frozen object at 0x7f0a6c3a7f40&gt;,\n",
              "                                        &#x27;filters_1&#x27;: &lt;scipy.stats._distn_infrastructure.rv_discrete_frozen object at 0x7f0a6c3a6c50&gt;,\n",
              "                                        &#x27;filters_2&#x27;: &lt;scipy.stats._distn_infrastructure.rv_discrete_frozen object at 0x7f0a6c3a7190&gt;,\n",
              "                                        &#x27;kernel_size&#x27;: &lt;scipy.stats._distn_infrastructure.rv_discrete_frozen object at 0x7f0a6c3a7580&gt;,\n",
              "                                        &#x27;optimizer&#x27;: [&#x27;adam&#x27;, &#x27;sgd&#x27;, &#x27;rmsprop&#x27;,\n",
              "                                                      &#x27;adagrad&#x27;, &#x27;adadelta&#x27;]})</pre></div></div></div><div class=\"sk-parallel\"><div class=\"sk-parallel-item\"><div class=\"sk-item\"><div class=\"sk-label-container\"><div class=\"sk-label sk-toggleable\"><input class=\"sk-toggleable__control sk-hidden--visually\" id=\"sk-estimator-id-2\" type=\"checkbox\" ><label for=\"sk-estimator-id-2\" class=\"sk-toggleable__label sk-toggleable__label-arrow\">estimator: KerasClassifier</label><div class=\"sk-toggleable__content\"><pre>&lt;keras.wrappers.scikit_learn.KerasClassifier object at 0x7f0a6c3a7ca0&gt;</pre></div></div></div><div class=\"sk-serial\"><div class=\"sk-item\"><div class=\"sk-estimator sk-toggleable\"><input class=\"sk-toggleable__control sk-hidden--visually\" id=\"sk-estimator-id-3\" type=\"checkbox\" ><label for=\"sk-estimator-id-3\" class=\"sk-toggleable__label sk-toggleable__label-arrow\">KerasClassifier</label><div class=\"sk-toggleable__content\"><pre>&lt;keras.wrappers.scikit_learn.KerasClassifier object at 0x7f0a6c3a7ca0&gt;</pre></div></div></div></div></div></div></div></div></div></div>"
            ]
          },
          "metadata": {},
          "execution_count": 8
        }
      ]
    },
    {
      "cell_type": "markdown",
      "source": [
        "**Step 8:** Print all hyperparameter results"
      ],
      "metadata": {
        "id": "wVh048jHwJJZ"
      }
    },
    {
      "cell_type": "code",
      "source": [
        "for i in range(random_search.n_iter):\n",
        "  score = random_search.cv_results_['mean_test_score'][i] # mean test score as we have cross-validation (scores/k-fold)\n",
        "  params = random_search.cv_results_['params'][i]\n",
        "  print(f\"{params}\\nscore:{score}\")"
      ],
      "metadata": {
        "colab": {
          "base_uri": "https://localhost:8080/"
        },
        "id": "X9r8Uv-ZzCFR",
        "outputId": "ab1344c7-980a-48f1-f9cb-f68bea23eb0d"
      },
      "execution_count": 9,
      "outputs": [
        {
          "output_type": "stream",
          "name": "stdout",
          "text": [
            "{'activation_1': 'tanh', 'activation_2': 'tanh', 'dense_units': 98, 'filters_1': 10, 'filters_2': 34, 'kernel_size': 2, 'optimizer': 'adagrad'}\n",
            "score:0.20876666903495789\n",
            "{'activation_1': 'relu', 'activation_2': 'sigmoid', 'dense_units': 166, 'filters_1': 15, 'filters_2': 52, 'kernel_size': 3, 'optimizer': 'sgd'}\n",
            "score:0.16034999986489615\n",
            "{'activation_1': 'tanh', 'activation_2': 'relu', 'dense_units': 204, 'filters_1': 10, 'filters_2': 25, 'kernel_size': 4, 'optimizer': 'rmsprop'}\n",
            "score:0.9309499859809875\n",
            "{'activation_1': 'sigmoid', 'activation_2': 'relu', 'dense_units': 244, 'filters_1': 15, 'filters_2': 56, 'kernel_size': 3, 'optimizer': 'adadelta'}\n",
            "score:0.09653333326180775\n",
            "{'activation_1': 'sigmoid', 'activation_2': 'sigmoid', 'dense_units': 228, 'filters_1': 11, 'filters_2': 18, 'kernel_size': 2, 'optimizer': 'sgd'}\n",
            "score:0.10923333217700322\n",
            "{'activation_1': 'sigmoid', 'activation_2': 'tanh', 'dense_units': 198, 'filters_1': 29, 'filters_2': 60, 'kernel_size': 3, 'optimizer': 'rmsprop'}\n",
            "score:0.6405166586240133\n",
            "{'activation_1': 'sigmoid', 'activation_2': 'tanh', 'dense_units': 131, 'filters_1': 15, 'filters_2': 51, 'kernel_size': 3, 'optimizer': 'sgd'}\n",
            "score:0.10253333300352097\n",
            "{'activation_1': 'relu', 'activation_2': 'tanh', 'dense_units': 87, 'filters_1': 26, 'filters_2': 17, 'kernel_size': 2, 'optimizer': 'adam'}\n",
            "score:0.6465166608492533\n",
            "{'activation_1': 'relu', 'activation_2': 'sigmoid', 'dense_units': 64, 'filters_1': 25, 'filters_2': 20, 'kernel_size': 3, 'optimizer': 'adagrad'}\n",
            "score:0.11236666639645894\n",
            "{'activation_1': 'tanh', 'activation_2': 'sigmoid', 'dense_units': 187, 'filters_1': 10, 'filters_2': 29, 'kernel_size': 2, 'optimizer': 'adagrad'}\n",
            "score:0.11236666639645894\n",
            "{'activation_1': 'relu', 'activation_2': 'relu', 'dense_units': 141, 'filters_1': 26, 'filters_2': 19, 'kernel_size': 3, 'optimizer': 'rmsprop'}\n",
            "score:0.8185833096504211\n",
            "{'activation_1': 'sigmoid', 'activation_2': 'tanh', 'dense_units': 107, 'filters_1': 25, 'filters_2': 59, 'kernel_size': 2, 'optimizer': 'adadelta'}\n",
            "score:0.0994499996304512\n",
            "{'activation_1': 'tanh', 'activation_2': 'tanh', 'dense_units': 86, 'filters_1': 12, 'filters_2': 63, 'kernel_size': 2, 'optimizer': 'adagrad'}\n",
            "score:0.20534999668598175\n",
            "{'activation_1': 'tanh', 'activation_2': 'tanh', 'dense_units': 170, 'filters_1': 9, 'filters_2': 47, 'kernel_size': 2, 'optimizer': 'adam'}\n",
            "score:0.7311500112215678\n",
            "{'activation_1': 'tanh', 'activation_2': 'tanh', 'dense_units': 216, 'filters_1': 18, 'filters_2': 16, 'kernel_size': 3, 'optimizer': 'adagrad'}\n",
            "score:0.20221666991710663\n",
            "{'activation_1': 'sigmoid', 'activation_2': 'sigmoid', 'dense_units': 211, 'filters_1': 19, 'filters_2': 59, 'kernel_size': 3, 'optimizer': 'adam'}\n",
            "score:0.2947166661421458\n",
            "{'activation_1': 'tanh', 'activation_2': 'tanh', 'dense_units': 110, 'filters_1': 11, 'filters_2': 52, 'kernel_size': 4, 'optimizer': 'adam'}\n",
            "score:0.9479666550954183\n",
            "{'activation_1': 'sigmoid', 'activation_2': 'sigmoid', 'dense_units': 253, 'filters_1': 27, 'filters_2': 46, 'kernel_size': 2, 'optimizer': 'rmsprop'}\n",
            "score:0.11236666639645894\n",
            "{'activation_1': 'tanh', 'activation_2': 'relu', 'dense_units': 163, 'filters_1': 27, 'filters_2': 40, 'kernel_size': 3, 'optimizer': 'rmsprop'}\n",
            "score:0.92466668287913\n",
            "{'activation_1': 'tanh', 'activation_2': 'tanh', 'dense_units': 120, 'filters_1': 15, 'filters_2': 27, 'kernel_size': 4, 'optimizer': 'rmsprop'}\n",
            "score:0.9292166829109192\n"
          ]
        }
      ]
    },
    {
      "cell_type": "markdown",
      "source": [
        "**Step 9:** Print optimum hyperparameters with the score"
      ],
      "metadata": {
        "id": "r8mYUk5ac0-3"
      }
    },
    {
      "cell_type": "code",
      "source": [
        "best_score = random_search.best_score_\n",
        "best_params = random_search.best_params_\n",
        "print(f\"{best_params}\\nscore:{best_score}\")"
      ],
      "metadata": {
        "colab": {
          "base_uri": "https://localhost:8080/"
        },
        "id": "D4k2uEkecBIM",
        "outputId": "ca376614-d16e-4710-d7f8-65417bbf93d1"
      },
      "execution_count": 10,
      "outputs": [
        {
          "output_type": "stream",
          "name": "stdout",
          "text": [
            "{'activation_1': 'tanh', 'activation_2': 'tanh', 'dense_units': 110, 'filters_1': 11, 'filters_2': 52, 'kernel_size': 4, 'optimizer': 'adam'}\n",
            "score:0.9479666550954183\n"
          ]
        }
      ]
    }
  ]
}